{
 "cells": [
  {
   "cell_type": "code",
   "execution_count": 136,
   "metadata": {},
   "outputs": [],
   "source": [
    "import numpy as np\n",
    "import matplotlib.pyplot as plt\n",
    "import math\n",
    "%matplotlib inline\n"
   ]
  },
  {
   "cell_type": "code",
   "execution_count": 153,
   "metadata": {},
   "outputs": [],
   "source": [
    "def read_data_from_txt(file_name):\n",
    "    to_read_file = open(file_name, \"r\")\n",
    "    paths = to_read_file.read().split('\\n')\n",
    "    path_time = []\n",
    "    path_x = []\n",
    "    path_y = []\n",
    "    for path_data in paths:\n",
    "        path_data_detail = path_data.split(',')\n",
    "        if path_data_detail == ['']:\n",
    "            continue\n",
    "        t_sec = path_data_detail[0].split(' ')[1].split(':')\n",
    "        t_sec = float(t_sec[0]) * 60 * 60 +  float(t_sec[1]) * 60 + float(t_sec[2])\n",
    "        path_time.append(t_sec)\n",
    "        path_x.append(float(path_data_detail[1]))\n",
    "        path_y.append(float(path_data_detail[2]))\n",
    "    print 'length: ', len(path_time)\n",
    "    return path_time, path_x, path_y"
   ]
  },
  {
   "cell_type": "code",
   "execution_count": 154,
   "metadata": {},
   "outputs": [],
   "source": [
    "class Path:\n",
    "    def __init__(self):\n",
    "        self.t = [] # time\n",
    "        self.x = [] # position x\n",
    "        self.y = [] # position y\n",
    "        self.v = [] # velocity\n",
    "        self.a = [] # acceleration\n",
    "        self.d = [] # distance"
   ]
  },
  {
   "cell_type": "code",
   "execution_count": 155,
   "metadata": {},
   "outputs": [],
   "source": [
    "def calculate_velocity(path):\n",
    "    v = []\n",
    "    d = []\n",
    "    for i in range(len(path.t)-1):\n",
    "        dt = path.t[i+1] - path.t[i]\n",
    "        dx = path.x[i+1] - path.x[i]\n",
    "        dy = path.y[i+1] - path.y[i]\n",
    "        d_cal = math.sqrt(dx * dx + dy * dy) \n",
    "        v_cal = d_cal / dt\n",
    "        #print dx, dy, v_cal * dt, v_cal, dt\n",
    "        d.append(d_cal)\n",
    "        v.append(v_cal)\n",
    "    return d, v\n",
    "\n",
    "def calculate_a(path):\n",
    "    a = []\n",
    "    for i in range(len(path.t)-2):\n",
    "        dv = path.v[i+1] - path.v[i]\n",
    "        dt = path.t[i+2] - path.t[i+1]\n",
    "        a_cal = dv / dt\n",
    "        #print dv, dt, a_cal\n",
    "        a.append(a_cal)\n",
    "    return a"
   ]
  },
  {
   "cell_type": "code",
   "execution_count": 156,
   "metadata": {},
   "outputs": [
    {
     "name": "stdout",
     "output_type": "stream",
     "text": [
      "length:  13\n",
      "length:  381\n",
      "length:  19\n"
     ]
    }
   ],
   "source": [
    "als_path = Path()\n",
    "als_path.t, als_path.x, als_path.y = read_data_from_txt(\"/home/arg/wamv_path/als_path1.txt\")\n",
    "als_path.d, als_path.v = calculate_velocity(als_path)\n",
    "als_path.a = calculate_a(als_path)\n",
    "\n",
    "gt_path = Path()\n",
    "gt_path.t, gt_path.x, gt_path.y = read_data_from_txt(\"/home/arg/wamv_path/gt_path1.txt\")\n",
    "gt_path.d, gt_path.v = calculate_velocity(gt_path)\n",
    "gt_path.a = calculate_a(gt_path)\n",
    "\n",
    "gps_path = Path()\n",
    "gps_path.t, gps_path.x, gps_path.y = read_data_from_txt(\"/home/arg/wamv_path/gps_path1.txt\")\n",
    "gps_path.d, gps_path.v = calculate_velocity(gps_path)\n",
    "gps_path.a = calculate_a(gps_path)"
   ]
  },
  {
   "cell_type": "code",
   "execution_count": 163,
   "metadata": {},
   "outputs": [],
   "source": [
    "def cal_ape(base_path, target_path):\n",
    "    error = []\n",
    "    tp_number = 0\n",
    "    count = 0\n",
    "    i = 0\n",
    "    get_taget_last = False\n",
    "    while(count < len(base_path.t)):\n",
    "        bp_dt = base_path.t[i] - base_path.t[0]\n",
    "        tp_dt = target_path.t[tp_number] - target_path.t[0]\n",
    "        if bp_dt > tp_dt and (tp_number + 1) < len(target_path.t):\n",
    "            tp_number += 1\n",
    "            continue\n",
    "        if bp_dt <= tp_dt or (tp_number + 1) == len(target_path.t):\n",
    "            dx = base_path.x[i] - target_path.x[tp_number]\n",
    "            dy = base_path.y[i] - target_path.y[tp_number]\n",
    "            e = math.sqrt(dx * dx + dy * dy)\n",
    "            error.append(e)\n",
    "            #print i+1, tp_number+1, e\n",
    "        i += 1\n",
    "        count += 1\n",
    "    return error"
   ]
  },
  {
   "cell_type": "code",
   "execution_count": 166,
   "metadata": {},
   "outputs": [
    {
     "name": "stdout",
     "output_type": "stream",
     "text": [
      "94.0529698712\n",
      "89.3347284283\n"
     ]
    }
   ],
   "source": [
    "als_e = cal_ape(gt_path, als_path)\n",
    "print sum(als_e)\n",
    "gps_e = cal_ape(gt_path, gps_path)\n",
    "print sum(gps_e)"
   ]
  },
  {
   "cell_type": "code",
   "execution_count": null,
   "metadata": {},
   "outputs": [],
   "source": []
  }
 ],
 "metadata": {
  "description": "Run a pretrained model as a detector in Python.",
  "example_name": "R-CNN detection",
  "include_in_docs": true,
  "kernelspec": {
   "display_name": "Python 2",
   "language": "python",
   "name": "python2"
  },
  "language_info": {
   "codemirror_mode": {
    "name": "ipython",
    "version": 2
   },
   "file_extension": ".py",
   "mimetype": "text/x-python",
   "name": "python",
   "nbconvert_exporter": "python",
   "pygments_lexer": "ipython2",
   "version": "2.7.12"
  },
  "priority": 6
 },
 "nbformat": 4,
 "nbformat_minor": 1
}
